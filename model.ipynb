{
 "cells": [
  {
   "cell_type": "code",
   "execution_count": 26,
   "metadata": {},
   "outputs": [],
   "source": [
    "# Import libraries\n",
    "import pandas as pd\n",
    "from keras.models import Sequential\n",
    "from keras.layers import Convolution2D\n",
    "from keras.layers import MaxPooling2D\n",
    "from keras.layers import Flatten\n",
    "from keras.layers import Dense\n",
    "from keras.preprocessing.image import ImageDataGenerator"
   ]
  },
  {
   "cell_type": "code",
   "execution_count": 11,
   "metadata": {},
   "outputs": [],
   "source": [
    "# Intializing the CNN\n",
    "classifier=Sequential()"
   ]
  },
  {
   "cell_type": "code",
   "execution_count": 13,
   "metadata": {},
   "outputs": [
    {
     "name": "stderr",
     "output_type": "stream",
     "text": [
      "C:\\anaconda\\envs\\tensorflow\\lib\\site-packages\\ipykernel_launcher.py:2: UserWarning: Update your `Conv2D` call to the Keras 2 API: `Conv2D(32, (3, 3), input_shape=(64, 64, 3..., activation=\"relu\")`\n",
      "  \n"
     ]
    }
   ],
   "source": [
    "# Convolution\n",
    "classifier.add(Convolution2D(32,3,3,input_shape=(64,64,3),activation='relu'))"
   ]
  },
  {
   "cell_type": "code",
   "execution_count": 18,
   "metadata": {},
   "outputs": [],
   "source": [
    "# Pooling\n",
    "classifier.add(MaxPooling2D(pool_size=(2,2)))"
   ]
  },
  {
   "cell_type": "code",
   "execution_count": 20,
   "metadata": {},
   "outputs": [],
   "source": [
    "# Flattening\n",
    "classifier.add(Flatten())\n",
    "        class_mode='categorical')\n",
    "\n",
    "classifier.fit_generator(\n",
    "        train_set,\n",
    "        steps_per_epoch=10400,\n",
    "        epochs=25,\n",
    "        validation_data=test_set,\n",
    "        validation_steps=2600)"
   ]
  },
  {
   "cell_type": "code",
   "execution_count": 21,
   "metadata": {},
   "outputs": [
    {
     "name": "stderr",
     "output_type": "stream",
     "text": [
      "C:\\anaconda\\envs\\tensorflow\\lib\\site-packages\\ipykernel_launcher.py:2: UserWarning: Update your `Dense` call to the Keras 2 API: `Dense(activation=\"relu\", units=128)`\n",
      "  \n",
      "C:\\anaconda\\envs\\tensorflow\\lib\\site-packages\\ipykernel_launcher.py:3: UserWarning: Update your `Dense` call to the Keras 2 API: `Dense(activation=\"softmax\", units=30)`\n",
      "  This is separate from the ipykernel package so we can avoid doing imports until\n"
     ]
    }
   ],
   "source": [
    "# Full connection\n",
    "classifier.add(Dense(output_dim=128,activation='relu'))\n",
    "classifier.add(Dense(output_dim=30,activation='softmax'))"
   ]
  },
  {
   "cell_type": "code",
   "execution_count": 25,
   "metadata": {},
   "outputs": [],
   "source": [
    "# Compiling the cnn model\n",
    "classifier.compile(optimizer='adam',loss='categorical_crossentropy',metrics=['accuracy'])"
   ]
  },
  {
   "cell_type": "code",
   "execution_count": null,
   "metadata": {},
   "outputs": [
    {
     "name": "stdout",
     "output_type": "stream",
     "text": [
      "Found 10400 images belonging to 30 classes.\n",
      "Found 2600 images belonging to 30 classes.\n",
      "Epoch 1/25\n",
      "10400/10400 [==============================] - 8144s 783ms/step - loss: 1.8313 - acc: 0.4665 - val_loss: 2.7811 - val_acc: 0.3327\n",
      "Epoch 2/25\n",
      "10400/10400 [==============================] - 12596s 1s/step - loss: 1.0955 - acc: 0.6654 - val_loss: 3.4612 - val_acc: 0.3335\n",
      "Epoch 3/25\n",
      "10400/10400 [==============================] - 9431s 907ms/step - loss: 0.8074 - acc: 0.7465 - val_loss: 4.1896 - val_acc: 0.3191\n",
      "Epoch 4/25\n",
      "10400/10400 [==============================] - 7880s 758ms/step - loss: 0.6515 - acc: 0.7924 - val_loss: 4.6249 - val_acc: 0.3164\n",
      "Epoch 5/25\n",
      "  524/10400 [>.............................] - ETA: 1:44:37 - loss: 0.5830 - acc: 0.8151"
     ]
    }
   ],
   "source": [
    "# To avoid overfitting, when you have less no of images, then this will create more images from existing images \n",
    "# By shifting, rotating, titlting, shearing..,etc\n",
    "\n",
    "train_datagen = ImageDataGenerator(\n",
    "        rescale=1./255,\n",
    "        shear_range=0.2,\n",
    "        zoom_range=0.2,\n",
    "        horizontal_flip=True)\n",
    "\n",
    "test_datagen = ImageDataGenerator(rescale=1./255)\n",
    "\n",
    "train_set = train_datagen.flow_from_directory(\n",
    "        'E:\\\\online_competitions_data\\\\IdentifyAnimal\\\\dataset\\\\train',\n",
    "        target_size=(64, 64),\n",
    "        batch_size=32,\n",
    "        class_mode='categorical')\n",
    "\n",
    "test_set = test_datagen.flow_from_directory(\n",
    "        'E:\\\\online_competitions_data\\\\IdentifyAnimal\\\\dataset\\\\test',\n",
    "        target_size=(64, 64),\n",
    "        batch_size=32,\n",
    "        class_mode='categorical')\n",
    "\n",
    "classifier.fit_generator(\n",
    "        train_set,\n",
    "        steps_per_epoch=10400,\n",
    "        epochs=25,\n",
    "        validation_data=test_set,\n",
    "        validation_steps=2600)"
   ]
  }
 ],
 "metadata": {
  "kernelspec": {
   "display_name": "Python 3",
   "language": "python",
   "name": "python3"
  },
  "language_info": {
   "codemirror_mode": {
    "name": "ipython",
    "version": 3
   },
   "file_extension": ".py",
   "mimetype": "text/x-python",
   "name": "python",
   "nbconvert_exporter": "python",
   "pygments_lexer": "ipython3",
   "version": "3.5.4"
  }
 },
 "nbformat": 4,
 "nbformat_minor": 2
}
